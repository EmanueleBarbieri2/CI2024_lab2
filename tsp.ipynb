{
 "cells": [
  {
   "cell_type": "markdown",
   "metadata": {},
   "source": [
    "# Lab2 - TSP\n"
   ]
  },
  {
   "cell_type": "code",
   "execution_count": null,
   "metadata": {},
   "outputs": [],
   "source": [
    "import logging\n",
    "from itertools import combinations\n",
    "import pandas as pd\n",
    "import numpy as np\n",
    "from geopy.distance import geodesic\n",
    "import networkx as nx\n",
    "from icecream import ic\n",
    "import random\n",
    "import math\n",
    "\n",
    "logging.basicConfig(level=logging.DEBUG)"
   ]
  },
  {
   "cell_type": "code",
   "execution_count": null,
   "metadata": {},
   "outputs": [],
   "source": [
    "CITIES = pd.read_csv('cities/italy.csv', header=None, names=['name', 'lat', 'lon'])\n",
    "DIST_MATRIX= np.zeros((len(CITIES), len(CITIES)))\n",
    "for c1, c2 in combinations(CITIES.itertuples(), 2):\n",
    "    DIST_MATRIX[c1.Index, c2.Index] = DIST_MATRIX[c2.Index, c1.Index] = geodesic(\n",
    "        (c1.lat, c1.lon), (c2.lat, c2.lon)\n",
    "    ).km\n",
    "CITIES.head()"
   ]
  },
  {
   "cell_type": "code",
   "execution_count": null,
   "metadata": {},
   "outputs": [],
   "source": [
    "def tsp_cost(tsp):\n",
    "    tot_cost =  0\n",
    "    for c1, c2 in zip(tsp, tsp[1:]):\n",
    "        tot_cost += DIST_MATRIX[c1, c2]\n",
    "    return tot_cost"
   ]
  },
  {
   "cell_type": "markdown",
   "metadata": {},
   "source": [
    "#"
   ]
  },
  {
   "cell_type": "markdown",
   "metadata": {},
   "source": [
    "\n",
    "## Greedy Algorithm (fast but approximate)"
   ]
  },
  {
   "cell_type": "code",
   "execution_count": null,
   "metadata": {},
   "outputs": [],
   "source": [
    "visited = np.full(len(CITIES), False) # all cities are not visited\n",
    "dist = DIST_MATRIX.copy()\n",
    "city = 0 # start from city 0\n",
    "visited[city] = True # mark city 0 as visited\n",
    "tsp = list()\n",
    "tsp.append(int(city)) # add city 0 to the list\n",
    "while not np.all(visited): # while there are cities not visited\n",
    "    dist[:, city] = np.inf\n",
    "    closest = np.argmin(dist[city]) # find the closest city\n",
    "    visited[closest] = True # mark the closest city as visited\n",
    "    city = closest # move to the closest city\n",
    "    tsp.append(int(city)) # add the closest city to the list\n",
    "\n",
    "tsp.append(tsp[0]) # return to the starting city\n",
    "tot_cost = 0 # calculate the total cost of the path\n",
    "for c1, c2 in zip(tsp, tsp[1:]): # for each pair of consecutive cities\n",
    "    tot_cost += DIST_MATRIX[c1, c2] # add the distance between the cities\n",
    "\n",
    "logging.info(f\"Cost: {tsp_cost(tsp):.2f}km\") \n",
    "logging.info(f\"Steps: {len(tsp)-1}\")\n"
   ]
  },
  {
   "cell_type": "markdown",
   "metadata": {},
   "source": [
    "#"
   ]
  },
  {
   "cell_type": "markdown",
   "metadata": {},
   "source": [
    "## Evolutionary algorithm (slower yet more accurate)\n"
   ]
  },
  {
   "cell_type": "code",
   "execution_count": null,
   "metadata": {},
   "outputs": [],
   "source": [
    "# Parameters\n",
    "NUM_CITIES = len(CITIES)\n",
    "POP_SIZE = 100\n",
    "GENERATIONS = round(50000/NUM_CITIES)\n",
    "MUTATION_RATE = 0.1\n",
    "ELITE_RATE = 0.1\n",
    "\n",
    "# Initialize population from greedy solution\n",
    "def initialize_population():\n",
    "    population = [tsp for _ in range(int(POP_SIZE))] # initialize population with greedy solution\n",
    "    return population \n",
    "\n",
    "# Fitness function\n",
    "def fitness(individual):\n",
    "    return 1 / tsp_cost(individual) # the higher the fitness, the lower the cost\n",
    "\n",
    "# Selection with elitism\n",
    "def selection(population, fitness_scores):\n",
    "    elite_count = int(POP_SIZE * ELITE_RATE) # number of elite individuals\n",
    "    elite_individuals = sorted(zip(population, fitness_scores), key=lambda x: x[1], reverse=True)[:elite_count] # select elite individuals\n",
    "    elite_population = [ind for ind, _ in elite_individuals]\n",
    "    \n",
    "    remaining_population = random.choices(population, weights=fitness_scores, k=POP_SIZE - elite_count) # select remaining individuals\n",
    "    return elite_population + remaining_population\n",
    "\n",
    "# Ordered crossover\n",
    "def crossover(parent1, parent2):\n",
    "    start, end = sorted(random.sample(range(NUM_CITIES), 2)) # select two random indices\n",
    "    child = [-1] * NUM_CITIES # initialize child with -1\n",
    "    child[start:end] = parent1[start:end] # copy the selected slice from parent1 to child\n",
    "\n",
    "    pointer = 0 \n",
    "    for gene in parent2: # iterate over parent2\n",
    "        if gene not in child: # if the gene is not already in the child\n",
    "            while child[pointer] != -1: # find the next empty slot\n",
    "                pointer += 1 \n",
    "            child[pointer] = gene # copy the gene to the empty slot\n",
    "    return child\n",
    "\n",
    "# Mutation\n",
    "def mutation(individual):    \n",
    "    one, two = sorted(random.sample(range(NUM_CITIES), 2)) # select two random indices\n",
    "    new_individual = individual[:] # copy the individual\n",
    "    new_individual[one] = individual[two] \n",
    "    new_individual[two] = individual[one] # swap the two cities\n",
    "    if(fitness(new_individual) > fitness(individual)):\n",
    "        return new_individual # return the new individual if it has better fitness\n",
    "    return individual\n",
    "\n",
    "# Evolution process\n",
    "def evolve_population(population):\n",
    "    fitness_scores = [fitness(ind) for ind in population] # calculate fitness scores\n",
    "    new_population = [] # initialize new population\n",
    "    \n",
    "    selected_individuals = selection(population, fitness_scores) # select individuals for the next generation\n",
    "    \n",
    "    while len(new_population) < POP_SIZE: # generate new population\n",
    "        parent1, parent2 = random.sample(selected_individuals, 2) # select two random parents\n",
    "        child = crossover(parent1, parent2) # generate child from parents\n",
    "        child = mutation(child) if random.random() < MUTATION_RATE else child # apply mutation\n",
    "        new_population.append(child) # add child to new population\n",
    "    \n",
    "    return new_population\n",
    "\n",
    "# Run the algorithm\n",
    "population = initialize_population() # initialize population\n",
    "best_route = None # initialize best route\n",
    "best_fitness = 0 # initialize best fitness\n",
    "\n",
    "for generation in range(GENERATIONS): \n",
    "    population = evolve_population(population) # evolve population\n",
    "    fitness_scores = [fitness(ind) for ind in population] # calculate fitness scores\n",
    "    \n",
    "    current_best_idx = np.argmax(fitness_scores) # find the best indiviual\n",
    "    current_best_fitness = fitness_scores[current_best_idx] # find the best fitness\n",
    "    \n",
    "    if current_best_fitness > best_fitness: # if the best individual is better than the previous best\n",
    "        best_fitness = current_best_fitness # update the best fitness\n",
    "        best_route = population[current_best_idx] # update the best route   \n",
    "\n",
    "best_route = np.append(best_route, best_route[0])\n",
    "\n",
    "\n",
    "logging.info(f\"Cost: {1 / best_fitness:.2f}km\") \n",
    "logging.info(f\"Steps: {GENERATIONS}\")\n",
    "\n"
   ]
  }
 ],
 "metadata": {
  "kernelspec": {
   "display_name": "Python 3",
   "language": "python",
   "name": "python3"
  },
  "language_info": {
   "codemirror_mode": {
    "name": "ipython",
    "version": 3
   },
   "file_extension": ".py",
   "mimetype": "text/x-python",
   "name": "python",
   "nbconvert_exporter": "python",
   "pygments_lexer": "ipython3",
   "version": "3.13.0"
  }
 },
 "nbformat": 4,
 "nbformat_minor": 2
}
